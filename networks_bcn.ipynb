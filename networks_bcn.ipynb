{
 "cells": [
  {
   "cell_type": "markdown",
   "metadata": {},
   "source": [
    "Networks - Final Project\n",
    "\n",
    "\"Is there an optimal road to close and convert to a public use space in Barcelona that minimizes the impact on traffic?\"\n",
    "\n",
    "-Clarice Mottet, Amber Walker, Mox Ballo\n",
    "\n",
    "Outline:\n",
    "-import Barcelona road network data into programming environment\n",
    "-subset the data to be only a neighborhood of Barcelona\n",
    "-determine alpha and beta parameters for latency function\n",
    "-create a dataset that is a very simple road network\n",
    "-write a function that calculates latency between nodes\n",
    "\n"
   ]
  },
  {
   "cell_type": "markdown",
   "metadata": {},
   "source": [
    "https://nbviewer.org/github/PyTrans/Urban-Network-Analysis/blob/master/Trip_Assignment-Frank-Wolfe_Algorithm.ipynb"
   ]
  },
  {
   "cell_type": "markdown",
   "metadata": {},
   "source": [
    "SUPER IMPORTANT\n",
    "\n",
    "I saw in the TransportationNetworks.py file that their initial alpha was .5 but everywhere said it should be .15, so I changed it to .15 in my file."
   ]
  },
  {
   "cell_type": "code",
   "execution_count": 4,
   "metadata": {},
   "outputs": [],
   "source": [
    "#libraries\n",
    "\n",
    "import pandas as pd\n",
    "import numpy as np\n",
    "import networkx as nx\n",
    "import networkx as nx\n",
    "import scipy.integrate as integrate \n",
    "from scipy.optimize import minimize_scalar\n",
    "import matplotlib.pyplot as plt\n",
    "from scipy.misc import derivative\n",
    "import TransportationNetworks as tn\n",
    "\n",
    "path_in_ = r'/home/clarice/Documents/VSCode/Term2_Networks/final_project/networks_finalproject/inputs'\n",
    "path_out_ = r'/home/clarice/Documents/VSCode/Term2_Networks/final_project/networks_finalproject/outputs'\n",
    "path_out_results_ = r'/home/clarice/Documents/VSCode/Term2_Networks/final_project/networks_finalproject/outputs/results'"
   ]
  },
  {
   "cell_type": "code",
   "execution_count": null,
   "metadata": {},
   "outputs": [],
   "source": [
    "#functions\n",
    "\n",
    "#from website to calculate latency\n",
    "def BPR(t0, xa, ca, alpha, beta):\n",
    "    ta = t0*(1+alpha*(xa/ca)**beta)\n",
    "    return ta\n",
    "\n",
    "#from website: method to calculate nash equilibrium (when SO = False)\n",
    "def calculateZ(theta, network, SO):\n",
    "    z = 0\n",
    "    for linkKey, linkVal in network.items():\n",
    "        t0 = linkVal['t0']\n",
    "        ca = linkVal['capa']\n",
    "        beta = linkVal['beta']\n",
    "        alpha = linkVal['alpha']\n",
    "        aux = linkVal['auxiliary'][-1]\n",
    "        flow = linkVal['flow'][-1]\n",
    "        \n",
    "        if SO == False:\n",
    "            z += integrate.quad(lambda x: BPR(t0, x, ca, alpha, beta), 0, flow+theta*(aux-flow))[0]\n",
    "        elif SO == True:\n",
    "            z += list(map(lambda x : x * BPR(t0, x, ca, alpha, beta), [flow+theta*(aux-flow)]))[0]\n",
    "    return z\n",
    "\n",
    "#from website: finds nash equilibrium\n",
    "def lineSearch(network, SO):\n",
    "    theta = minimize_scalar(lambda x: calculateZ(x, network, SO), bounds = (0,1), method = 'Bounded')\n",
    "    return theta.x"
   ]
  },
  {
   "cell_type": "code",
   "execution_count": null,
   "metadata": {},
   "outputs": [],
   "source": [
    "#functions - user, based on jupyter notebook\n",
    "\n",
    "def initialize(link_file, trip_file, node_file):\n",
    "    #set objective and open the network\n",
    "    SO = False # True - System optimum, False - User equilibrium\n",
    "    barcelonaSubset = tn.Network(link_file, trip_file, node_file, SO)\n",
    "\n",
    "    #start of initialization\n",
    "\n",
    "    # define output variables, network and fwResult\n",
    "    network = {(u,v): {'t0':d['object'].t0, 'alpha':d['object'].alpha, \\\n",
    "            'beta':d['object'].beta, 'capa':d['object'].capacity, 'flow':[], \\\n",
    "            'auxiliary':[], 'cost':[]} for (u, v, d) in barcelonaSubset.graph.edges(data=True)}\n",
    "\n",
    "    fwResult = {'theta':[], 'z':[]}\n",
    "\n",
    "    # initial all-or-nothing assignment and update link travel time(cost)\n",
    "    barcelonaSubset.all_or_nothing_assignment()\n",
    "    barcelonaSubset.update_linkcost()\n",
    "\n",
    "    for linkKey, linkVal in network.items():\n",
    "        linkVal['cost'].append(barcelonaSubset.graph[linkKey[0]][linkKey[1]]['weight'])\n",
    "        linkVal['auxiliary'].append(barcelonaSubset.graph[linkKey[0]][linkKey[1]]['object'].vol)\n",
    "        linkVal['flow'].append(barcelonaSubset.graph[linkKey[0]][linkKey[1]]['object'].vol)\n",
    "\n",
    "    return barcelonaSubset, network, fwResult\n",
    "\n",
    "#calculate nash equilibrium\n",
    "def calc_nash(barcelonaSubset, network, fwResult):\n",
    "    SO=False\n",
    "    ## iterations\n",
    "    iterNum=0\n",
    "    iteration = True\n",
    "    while iteration:\n",
    "        iterNum += 1\n",
    "        barcelonaSubset.all_or_nothing_assignment()\n",
    "        barcelonaSubset.update_linkcost()\n",
    "        \n",
    "        # set auxiliary flow using updated link flow\n",
    "        for linkKey, linkVal in network.items():\n",
    "            linkVal['auxiliary'].append(barcelonaSubset.graph[linkKey[0]][linkKey[1]]['object'].vol)\n",
    "            \n",
    "        # getting optimal move size (theta)\n",
    "        theta = lineSearch(network, SO)\n",
    "        fwResult['theta'].append(theta)\n",
    "        \n",
    "        # set link flow (move) based on the theta, auxiliary flow, and link flow of previous iteration\n",
    "        for linkKey, linkVal in network.items():\n",
    "            aux = linkVal['auxiliary'][-1]\n",
    "            flow = linkVal['flow'][-1]\n",
    "            linkVal['flow'].append(flow + theta*(aux-flow))\n",
    "            \n",
    "            barcelonaSubset.graph[linkKey[0]][linkKey[1]]['object'].vol =  flow + theta * (aux - flow)\n",
    "            barcelonaSubset.graph[linkKey[0]][linkKey[1]]['object'].flow = flow + theta * (aux - flow)\n",
    "            \n",
    "        # update link travel time\n",
    "        barcelonaSubset.update_linkcost()\n",
    "        \n",
    "        # calculate objective function value\n",
    "        z=0\n",
    "        for linkKey, linkVal in network.items():\n",
    "            linkVal['cost'].append(barcelonaSubset.graph[linkKey[0]][linkKey[1]]['weight'])\n",
    "            totalcost = barcelonaSubset.graph[linkKey[0]][linkKey[1]]['object'].get_objective_function()\n",
    "            z+=totalcost\n",
    "            \n",
    "        fwResult['z'].append(z)        \n",
    "            \n",
    "        # convergence test\n",
    "        if iterNum == 1:\n",
    "            iteration = True\n",
    "        else:\n",
    "            if abs(fwResult['z'][-2] - fwResult['z'][-1]) <= 0.001 or iterNum==3000:\n",
    "                iteration = False\n",
    "\n",
    "    return barcelonaSubset, network, fwResult"
   ]
  },
  {
   "cell_type": "code",
   "execution_count": null,
   "metadata": {},
   "outputs": [],
   "source": [
    "#functions - user\n",
    "\n",
    "#remove edges from consideration\n",
    "\n",
    "#create mini block list\n",
    "\n",
    "#create super block list\n",
    "\n",
    "#calc total latency\n",
    "\n",
    "#store and export results\n",
    "\n"
   ]
  },
  {
   "cell_type": "code",
   "execution_count": null,
   "metadata": {},
   "outputs": [],
   "source": [
    "#import data into programming environment\n",
    "directory = \".\\\\Data\\\\TransportationNetworks\\\\barcelonaSubset\\\\\"\n",
    "link_file = '{}Barcelona_net.tntp'.format(directory)\n",
    "trip_file = '{}Barcelona_trips.tntp'.format(directory)\n",
    "node_file = '{}barcelonaSubset_node.tntp'.format(directory)\n",
    "\n",
    "#need to create a node file\n",
    "\n",
    "#subset to just one neighborhood of Barcelona\n"
   ]
  },
  {
   "cell_type": "code",
   "execution_count": null,
   "metadata": {},
   "outputs": [],
   "source": [
    "#"
   ]
  },
  {
   "cell_type": "markdown",
   "metadata": {},
   "source": [
    "# initialization"
   ]
  },
  {
   "cell_type": "code",
   "execution_count": null,
   "metadata": {},
   "outputs": [],
   "source": [
    "\n",
    "\n",
    "#initialize graph\n",
    "barcelonaSubset, network, fwResult = initialize(link_file, trip_file, node_file)\n",
    "\n",
    "#find nash equilibrium\n",
    "barcelonaSubset, network, fwResult = calc_nash(barcelonaSubset, network, fwResult)\n",
    "\n",
    "#calculate latency\n",
    "\n",
    "#export flow\n",
    "#export latency"
   ]
  }
 ],
 "metadata": {
  "kernelspec": {
   "display_name": "Python 3",
   "language": "python",
   "name": "python3"
  },
  "language_info": {
   "codemirror_mode": {
    "name": "ipython",
    "version": 3
   },
   "file_extension": ".py",
   "mimetype": "text/x-python",
   "name": "python",
   "nbconvert_exporter": "python",
   "pygments_lexer": "ipython3",
   "version": "3.10.12"
  }
 },
 "nbformat": 4,
 "nbformat_minor": 2
}
