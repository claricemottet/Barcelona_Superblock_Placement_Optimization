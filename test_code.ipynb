{
 "cells": [
  {
   "cell_type": "markdown",
   "metadata": {},
   "source": [
    "test code"
   ]
  },
  {
   "cell_type": "code",
   "execution_count": null,
   "metadata": {},
   "outputs": [],
   "source": [
    "import pandas as pd\n",
    "import numpy as np\n",
    "import networkx as nx\n",
    "import scipy.integrate as integrate \n",
    "from scipy.optimize import minimize_scalar\n",
    "import matplotlib.pyplot as plt\n",
    "from scipy.misc import derivative"
   ]
  },
  {
   "cell_type": "code",
   "execution_count": null,
   "metadata": {},
   "outputs": [],
   "source": [
    "nodes = [1,2,3,4,5,6,7,8,9,10,11,12,13,14,15,16]\n",
    "edges = [(1,2),(2,3),(3,4),(5,6),(6,7),(7,8),(9,10),(10,11),(11,12),(13,14),(14,15),(15,16),(1,5),(5,9),(9,13),(2,6),(6,10),(10,14),(3,7),(7,11),(11,15),(4,8),(8,12),(12,16)]\n",
    "\n",
    "graph = nx.Graph()\n",
    "\n",
    "for node in nodes:\n",
    "    graph.add_node(node)\n",
    "\n",
    "for edge in edges:\n",
    "    graph.add_edge(edge[0],edge[1])\n",
    "\n"
   ]
  }
 ],
 "metadata": {
  "language_info": {
   "name": "python"
  }
 },
 "nbformat": 4,
 "nbformat_minor": 2
}
