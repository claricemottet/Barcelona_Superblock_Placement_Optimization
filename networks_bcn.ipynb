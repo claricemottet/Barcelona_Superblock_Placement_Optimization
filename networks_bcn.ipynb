{
 "cells": [
  {
   "cell_type": "markdown",
   "metadata": {},
   "source": [
    "Networks - Final Project\n",
    "\n",
    "\"Is there an optimal road to close and convert to a public use space in Barcelona that minimizes the impact on traffic?\"\n",
    "\n",
    "-Clarice Mottet, Amber Walker, Mox Ballo\n",
    "\n",
    "Outline:\n",
    "-import Barcelona road network data into programming environment\n",
    "-subset the data to be only a neighborhood of Barcelona\n",
    "-determine alpha and beta parameters for latency function\n",
    "-create a dataset that is a very simple road network\n",
    "-write a function that calculates latency between nodes\n",
    "\n"
   ]
  },
  {
   "cell_type": "code",
   "execution_count": null,
   "metadata": {},
   "outputs": [],
   "source": []
  }
 ],
 "metadata": {
  "language_info": {
   "name": "python"
  }
 },
 "nbformat": 4,
 "nbformat_minor": 2
}
