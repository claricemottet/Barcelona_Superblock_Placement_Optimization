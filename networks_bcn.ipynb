{
 "cells": [
  {
   "cell_type": "markdown",
   "metadata": {},
   "source": [
    "Networks - Final Project\n",
    "\n",
    "\"Is there an optimal road to close and convert to a public use space in Barcelona that minimizes the impact on traffic?\"\n",
    "\n",
    "-Clarice Mottet, Amber Walker, Mox Ballo\n",
    "\n",
    "Outline:\n",
    "-import Barcelona road network data into programming environment\n",
    "-subset the data to be only a neighborhood of Barcelona\n",
    "-determine alpha and beta parameters for latency function\n",
    "-create a dataset that is a very simple road network\n",
    "-write a function that calculates latency between nodes\n",
    "\n"
   ]
  },
  {
   "cell_type": "markdown",
   "metadata": {},
   "source": [
    "https://nbviewer.org/github/PyTrans/Urban-Network-Analysis/blob/master/Trip_Assignment-Frank-Wolfe_Algorithm.ipynb"
   ]
  },
  {
   "cell_type": "code",
   "execution_count": 4,
   "metadata": {},
   "outputs": [],
   "source": [
    "#libraries\n",
    "\n",
    "import pandas as pd\n",
    "import numpy as np\n",
    "import networkx as nx\n",
    "import networkx as nx\n",
    "import scipy.integrate as integrate \n",
    "from scipy.optimize import minimize_scalar\n",
    "import matplotlib.pyplot as plt\n",
    "from scipy.misc import derivative\n",
    "import TransportationNetworks as tn\n",
    "\n",
    "path_in_ = r'/home/clarice/Documents/VSCode/Term2_Networks/final_project/networks_finalproject/inputs'\n",
    "path_out_ = r'/home/clarice/Documents/VSCode/Term2_Networks/final_project/networks_finalproject/outputs'"
   ]
  },
  {
   "cell_type": "code",
   "execution_count": null,
   "metadata": {},
   "outputs": [],
   "source": [
    "#functions\n",
    "\n",
    "#from website to calculate latency\n",
    "def BPR(t0, xa, ca, alpha, beta):\n",
    "    ta = t0*(1+alpha*(xa/ca)**beta)\n",
    "    return ta\n",
    "\n",
    "#from website to calculate nash equilibrium (when SO = False)\n",
    "def calculateZ(theta, network, SO):\n",
    "    z = 0\n",
    "    for linkKey, linkVal in network.items():\n",
    "        t0 = linkVal['t0']\n",
    "        ca = linkVal['capa']\n",
    "        beta = linkVal['beta']\n",
    "        alpha = linkVal['alpha']\n",
    "        aux = linkVal['auxiliary'][-1]\n",
    "        flow = linkVal['flow'][-1]\n",
    "        \n",
    "        if SO == False:\n",
    "            z += integrate.quad(lambda x: BPR(t0, x, ca, alpha, beta), 0, flow+theta*(aux-flow))[0]\n",
    "        elif SO == True:\n",
    "            z += list(map(lambda x : x * BPR(t0, x, ca, alpha, beta), [flow+theta*(aux-flow)]))[0]\n",
    "    return z\n",
    "\n",
    "def lineSearch(network, SO):\n",
    "    theta = minimize_scalar(lambda x: calculateZ(x, network, SO), bounds = (0,1), method = 'Bounded')\n",
    "    return theta.x"
   ]
  },
  {
   "cell_type": "code",
   "execution_count": null,
   "metadata": {},
   "outputs": [],
   "source": [
    "directory = \".\\\\Data\\\\TransportationNetworks\\\\SiouxFalls\\\\\"\n",
    "link_file = '{}SiouxFalls_net.tntp'.format(directory)\n",
    "trip_file = '{}SiouxFalls_trips.tntp'.format(directory)\n",
    "node_file = '{}SiouxFalls_node.tntp'.format(directory)"
   ]
  },
  {
   "cell_type": "code",
   "execution_count": null,
   "metadata": {},
   "outputs": [],
   "source": [
    "SO = False # True - System optimum, False - User equilibrium\n",
    "siouxFalls = tn.Network(link_file, trip_file, node_file, SO)"
   ]
  }
 ],
 "metadata": {
  "kernelspec": {
   "display_name": "Python 3",
   "language": "python",
   "name": "python3"
  },
  "language_info": {
   "codemirror_mode": {
    "name": "ipython",
    "version": 3
   },
   "file_extension": ".py",
   "mimetype": "text/x-python",
   "name": "python",
   "nbconvert_exporter": "python",
   "pygments_lexer": "ipython3",
   "version": "3.10.12"
  }
 },
 "nbformat": 4,
 "nbformat_minor": 2
}
