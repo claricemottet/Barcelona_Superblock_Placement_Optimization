{
 "cells": [
  {
   "cell_type": "markdown",
   "metadata": {},
   "source": [
    "Networks - Final Project\n",
    "\n",
    "\"Is there an optimal road to close and convert to a public use space in Barcelona that minimizes the impact on traffic?\"\n",
    "\n",
    "-Clarice Mottet, Amber Walker, Mox Ballo\n",
    "\n",
    "Outline:\n",
    "-import Barcelona road network data into programming environment\n",
    "-subset the data to be only a neighborhood of Barcelona\n",
    "-determine alpha and beta parameters for latency function\n",
    "-create a dataset that is a very simple road network\n",
    "-write a function that calculates latency between nodes\n",
    "\n"
   ]
  },
  {
   "cell_type": "code",
   "execution_count": 4,
   "metadata": {},
   "outputs": [],
   "source": [
    "#libraries\n",
    "\n",
    "import pandas as pd\n",
    "import numpy as np\n",
    "import networkx as nx\n",
    "import networkx as nx\n",
    "import scipy.integrate as integrate \n",
    "from scipy.optimize import minimize_scalar\n",
    "import matplotlib.pyplot as plt\n",
    "from scipy.misc import derivative\n",
    "import TransportationNetworks as tn\n",
    "\n",
    "path_in_ = r'/home/clarice/Documents/VSCode/Term2_Networks/final_project/networks_finalproject/inputs'\n",
    "path_out_ = r'/home/clarice/Documents/VSCode/Term2_Networks/final_project/networks_finalproject/outputs'"
   ]
  }
 ],
 "metadata": {
  "kernelspec": {
   "display_name": "Python 3",
   "language": "python",
   "name": "python3"
  },
  "language_info": {
   "codemirror_mode": {
    "name": "ipython",
    "version": 3
   },
   "file_extension": ".py",
   "mimetype": "text/x-python",
   "name": "python",
   "nbconvert_exporter": "python",
   "pygments_lexer": "ipython3",
   "version": "3.10.12"
  }
 },
 "nbformat": 4,
 "nbformat_minor": 2
}
